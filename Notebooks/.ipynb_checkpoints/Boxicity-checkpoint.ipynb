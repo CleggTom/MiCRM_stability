{
 "cells": [
  {
   "cell_type": "markdown",
   "id": "d92bb456-e0ec-4832-8220-f7e573a5efa7",
   "metadata": {},
   "source": [
    "# Microbial Dimensionality\n",
    "In this notebook I calculate the dimensionality of simulated microbial consumption networks. The idea is based of Eklof 2013 who present an algorthm to detect the minimum number of dimensions required to represent a given network. This is also known in network science as boxicity. "
   ]
  },
  {
   "cell_type": "code",
   "execution_count": 6,
   "id": "858a196d-856d-466d-bf3a-d972b91666bc",
   "metadata": {},
   "outputs": [
    {
     "name": "stderr",
     "output_type": "stream",
     "text": [
      "\u001b[32m\u001b[1m  Activating\u001b[22m\u001b[39m project at `~/Projects/Working/HIFMB/MiCRM_stability`\n"
     ]
    }
   ],
   "source": [
    "using Pkg\n",
    "\n",
    "Pkg.activate(\"..\")\n",
    "\n",
    "using Distributions, LinearAlgebra, StatsBase, Distances\n"
   ]
  },
  {
   "cell_type": "code",
   "execution_count": null,
   "id": "2096d087-7c1a-4860-acd9-2a7e843b5a28",
   "metadata": {},
   "outputs": [],
   "source": []
  }
 ],
 "metadata": {
  "kernelspec": {
   "display_name": "Julia 1.9.2",
   "language": "julia",
   "name": "julia-1.9"
  },
  "language_info": {
   "file_extension": ".jl",
   "mimetype": "application/julia",
   "name": "julia",
   "version": "1.9.2"
  }
 },
 "nbformat": 4,
 "nbformat_minor": 5
}
