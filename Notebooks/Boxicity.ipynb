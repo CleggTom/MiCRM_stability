{
 "cells": [
  {
   "cell_type": "markdown",
   "id": "d92bb456-e0ec-4832-8220-f7e573a5efa7",
   "metadata": {},
   "source": [
    "# Microbial Dimensionality\n",
    "In this notebook I calculate the dimensionality of simulated microbial consumption networks. The idea is based of Eklof 2013 who present an algorthm to detect the minimum number of dimensions required to represent a given network. This is also known in network science as boxicity. "
   ]
  },
  {
   "cell_type": "code",
   "execution_count": 388,
   "id": "858a196d-856d-466d-bf3a-d972b91666bc",
   "metadata": {},
   "outputs": [
    {
     "name": "stderr",
     "output_type": "stream",
     "text": [
      "\u001b[32m\u001b[1m  Activating\u001b[22m\u001b[39m project at `~/Projects/Working/HIFMB/MiCRM_stability`\n"
     ]
    }
   ],
   "source": [
    "using Pkg\n",
    "\n",
    "Pkg.activate(\"..\")\n",
    "\n",
    "using Distributions, LinearAlgebra, StatsBase, Distances\n",
    "using CairoMakie"
   ]
  },
  {
   "cell_type": "markdown",
   "id": "32cc69e3-4c92-4488-b27e-eb247954bdd9",
   "metadata": {},
   "source": [
    "# Toy case\n",
    "First we consider a toy case of a network with 3 consumers and 3 resources the question becomes how can we arrange the resources along $D$ 'niche' axes such that a $D$-dimension hypercube can be placed for each consumer which contains only its resources. \n",
    "\n",
    "The simplest case is when all consumers feed on a single seperate resource or nested subset:\n",
    "\n",
    "$$\n",
    "    \\begin{bmatrix} \n",
    "        1 & 0 & 0 \\\\ \n",
    "        0 & 1 & 0 \\\\ \n",
    "        0 & 0 & 1 \n",
    "    \\end{bmatrix} \n",
    "    \\quad \n",
    "    \\begin{bmatrix} \n",
    "        1 & 1 & 1 \\\\ \n",
    "        0 & 1 & 0 \\\\ \n",
    "        0 & 0 & 1 \n",
    "    \\end{bmatrix}\n",
    "$$\n",
    "\n",
    "here resources can clearly be placed along a single axis. what if resources are not arranged like this?\n",
    "\n",
    "$$\n",
    "    \\begin{bmatrix} \n",
    "        1 & 1 & 0 \\\\ \n",
    "        0 & 1 & 1 \\\\ \n",
    "        1 & 0 & 1 \n",
    "    \\end{bmatrix} \n",
    "$$\n",
    "\n",
    "Here we can see that we need an aditional dimension. \n"
   ]
  },
  {
   "cell_type": "code",
   "execution_count": 389,
   "id": "b16f54d5-5c53-4ae9-b3d2-d48a9eb86122",
   "metadata": {},
   "outputs": [
    {
     "data": {
      "text/plain": [
       "threshold_climb (generic function with 1 method)"
      ]
     },
     "execution_count": 389,
     "metadata": {},
     "output_type": "execute_result"
    }
   ],
   "source": [
    "#type to contain all info to order and calucate error of that ordering\n",
    "mutable struct Ordering\n",
    "    N::Int64\n",
    "    M::Int64\n",
    "    D::Int64\n",
    "    A::Matrix{Int64}\n",
    "    A_boxy::Matrix{Int64}\n",
    "    ord::Matrix{Int64}\n",
    "    err::Int64\n",
    "end\n",
    "\n",
    "#calculate error of a given ordering\n",
    "function calc_error!(o::Ordering)\n",
    "    o.A_boxy .= 0.0\n",
    "    for i = 1:o.N\n",
    "        lims = zeros(o.D,2)\n",
    "        for d = 1:o.D\n",
    "            #get lims for each dimension\n",
    "            diet_loc = o.ord[o.A[i,:] .== 1, o.D]\n",
    "            if !isempty(diet_loc)\n",
    "                lims = extrema(diet_loc)\n",
    "                #calculate if resources are within range\n",
    "                for k = 1:o.M\n",
    "                    if lims[1] <= o.ord[k,o.D] <= lims[2]\n",
    "                        o.A_boxy[i,k] += 1\n",
    "                    end\n",
    "                end\n",
    "            end\n",
    "        end\n",
    "    end\n",
    "    o.A_boxy = o.A_boxy .== o.D\n",
    "    o.err = sum(o.A_boxy) - sum(o.A)\n",
    "end\n",
    "\n",
    "function swap!(o::Ordering, i,j,D)\n",
    "    tmp = deepcopy(o.ord[i,D])\n",
    "    o.ord[i,D] = copy(o.ord[j,D])\n",
    "    o.ord[j,D] = tmp\n",
    "end\n",
    "\n",
    "#threshold accepting algo\n",
    "function threshold_climb(o, Δ0, t_max)\n",
    "    #define arrays\n",
    "    Δvec = Int.(floor.(range(Δ0,0,t_max)))\n",
    "    err_vec = fill(o.err, t_max + 1)\n",
    "    #itterate \n",
    "    for t = 1:t_max\n",
    "        #candidate swap\n",
    "        D = rand(1:o.D)\n",
    "        i,j = rand(1:o.M,2)\n",
    "\n",
    "        #do swap\n",
    "        swap!(o,i,j,D)\n",
    "        calc_error!(o)\n",
    "        \n",
    "        #test if it is good\n",
    "        if o.err - err_vec[t] <= Δvec[t]\n",
    "            err_vec[t+1] = o.err\n",
    "        else\n",
    "            swap!(o,j,i,D)\n",
    "            calc_error!(o)\n",
    "            err_vec[t+1] = o.err\n",
    "        end\n",
    "        # println(o.err - err_vec[t],\"  \",o.ord, \"  \", o.err)\n",
    "    end\n",
    "    \n",
    "    return(err_vec)\n",
    "end\n",
    "    "
   ]
  },
  {
   "cell_type": "code",
   "execution_count": 410,
   "id": "9b208a06-debc-410d-9f38-819e4500516d",
   "metadata": {},
   "outputs": [
    {
     "data": {
      "text/plain": [
       "8-element Vector{Int64}:\n",
       " 1553\n",
       " 1659\n",
       " 1634\n",
       " 1618\n",
       " 1553\n",
       " 1566\n",
       " 1600\n",
       " 1581"
      ]
     },
     "execution_count": 410,
     "metadata": {},
     "output_type": "execute_result"
    }
   ],
   "source": [
    "using Random\n",
    "Random.seed!(20)\n",
    "\n",
    "#define case\n",
    "N,M = 50,50\n",
    "A = rand(N,M) .< 0.2\n",
    "D = 15\n",
    "\n",
    "#initial guesses\n",
    "order = [hcat([sample(1:M,M, replace=false) for i = 1:D]...) for i = 1:8]\n",
    "\n",
    "o = [Ordering(N,M,D,A,zeros(N,M),or,N*M) for or = order] \n",
    "calc_error!.(o)\n"
   ]
  },
  {
   "cell_type": "code",
   "execution_count": 422,
   "id": "1c4ee5f1-b1d9-43ff-a192-eea2ea2c6f19",
   "metadata": {},
   "outputs": [
    {
     "data": {
      "image/png": "[encoded data removed]"
     },
     "execution_count": 422,
     "metadata": {},
     "output_type": "execute_result"
    }
   ],
   "source": [
    "Nrep = 10000\n",
    "res = zeros(8, Nrep+1)\n",
    "Threads.@threads for i = 1:8\n",
    "    res[i,:] .= threshold_climb(o[i], , Nrep)\n",
    "end\n",
    "\n",
    "series(res, solid_color = :black)"
   ]
  },
  {
   "cell_type": "code",
   "execution_count": 413,
   "id": "dac9dc89-8227-4d97-8f05-0f89c8038de3",
   "metadata": {},
   "outputs": [
    {
     "data": {
      "text/plain": [
       "101-element Vector{Int64}:\n",
       " 1237\n",
       " 1237\n",
       " 1237\n",
       " 1237\n",
       " 1237\n",
       " 1237\n",
       " 1237\n",
       " 1237\n",
       " 1237\n",
       " 1237\n",
       " 1237\n",
       " 1237\n",
       " 1237\n",
       "    ⋮\n",
       " 1237\n",
       " 1237\n",
       " 1237\n",
       " 1237\n",
       " 1237\n",
       " 1237\n",
       " 1237\n",
       " 1237\n",
       " 1237\n",
       " 1237\n",
       " 1237\n",
       " 1237"
      ]
     },
     "execution_count": 413,
     "metadata": {},
     "output_type": "execute_result"
    }
   ],
   "source": [
    "threshold_climb(o[1], 0, Nrep)"
   ]
  },
  {
   "cell_type": "code",
   "execution_count": null,
   "id": "2096d087-7c1a-4860-acd9-2a7e843b5a28",
   "metadata": {},
   "outputs": [],
   "source": [
    "C = readdlm(\"./data/C_mat.csv\",',') .> 0"
   ]
  }
 ],
 "metadata": {
  "kernelspec": {
   "display_name": "Julia 1.9.2",
   "language": "julia",
   "name": "julia-1.9"
  },
  "language_info": {
   "file_extension": ".jl",
   "mimetype": "application/julia",
   "name": "julia",
   "version": "1.9.2"
  }
 },
 "nbformat": 4,
 "nbformat_minor": 5
}
